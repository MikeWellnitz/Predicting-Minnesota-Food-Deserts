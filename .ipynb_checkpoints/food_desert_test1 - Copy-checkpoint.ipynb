{
 "cells": [
  {
   "cell_type": "code",
   "execution_count": 1,
   "id": "9f2c4a08",
   "metadata": {},
   "outputs": [],
   "source": [
    "import pandas as pd\n",
    "\n",
    "from sklearn.model_selection import train_test_split\n",
    "from sklearn.preprocessing import StandardScaler\n",
    "import tensorflow as tf\n",
    "import matplotlib.pyplot as plt"
   ]
  },
  {
   "cell_type": "code",
   "execution_count": null,
   "id": "5914783b",
   "metadata": {},
   "outputs": [],
   "source": [
    "data_df = pd.read_excel('FoodAccessResearchAtlasData2019.xlsx')\n",
    "data_df.head()"
   ]
  },
  {
   "cell_type": "code",
   "execution_count": null,
   "id": "6502c34a",
   "metadata": {},
   "outputs": [],
   "source": [
    "mn_df = data_df[data_df['State'] == 'Minnesota']\n",
    "mn_df"
   ]
  },
  {
   "cell_type": "code",
   "execution_count": null,
   "id": "c10930e1",
   "metadata": {},
   "outputs": [],
   "source": [
    "grouped_df = mn_df[[\"County\", \"Urban\", \"Pop2010\", \"OHU2010\",\n",
    "                            \"GroupQuartersFlag\", \"NUMGQTRS\", \"PCTGQTRS\", \"HUNVFlag\", \"LowIncomeTracts\", \n",
    "                            \"PovertyRate\", \"MedianFamilyIncome\", \"TractLOWI\", \"TractKids\", \"TractSeniors\", \n",
    "                            \"TractWhite\", \"TractBlack\", \"TractAsian\", \"TractNHOPI\", \"TractAIAN\", \n",
    "                            \"TractOMultir\", \"TractHispanic\", \"TractHUNV\", \"TractSNAP\", \"LAhalfand10\"]]\n",
    "grouped_df.head()"
   ]
  },
  {
   "cell_type": "code",
   "execution_count": null,
   "id": "cd673207",
   "metadata": {},
   "outputs": [],
   "source": [
    "grouped_df.isnull().sum()"
   ]
  },
  {
   "cell_type": "code",
   "execution_count": null,
   "id": "a4ea306d",
   "metadata": {},
   "outputs": [],
   "source": [
    "grouped_df.info()"
   ]
  },
  {
   "cell_type": "code",
   "execution_count": null,
   "id": "50229561",
   "metadata": {},
   "outputs": [],
   "source": [
    "grouped_df.loc[(grouped_df[\"MedianFamilyIncome\"].isnull()), [\"County\", \"MedianFamilyIncome\"]]\n"
   ]
  },
  {
   "cell_type": "code",
   "execution_count": null,
   "id": "a73880c4",
   "metadata": {},
   "outputs": [],
   "source": [
    "median = grouped_df.loc[grouped_df[\"County\"] == \"Hennepin County\"][\"MedianFamilyIncome\"].median()\n",
    "median"
   ]
  },
  {
   "cell_type": "code",
   "execution_count": null,
   "id": "391a47b8",
   "metadata": {},
   "outputs": [],
   "source": [
    "grouped_df.loc[(grouped_df[\"MedianFamilyIncome\"].isnull()) & (grouped_df[\"County\"] == \"Hennepin County\"), \"MedianFamilyIncome\"] = median"
   ]
  },
  {
   "cell_type": "code",
   "execution_count": null,
   "id": "96b2c93c",
   "metadata": {},
   "outputs": [],
   "source": [
    "grouped_df.loc[(grouped_df[\"MedianFamilyIncome\"].isnull()) | (grouped_df[\"County\"] == \"Hennepin County\"), [\"County\", \"MedianFamilyIncome\"]]\n"
   ]
  },
  {
   "cell_type": "code",
   "execution_count": null,
   "id": "2b992425",
   "metadata": {},
   "outputs": [],
   "source": [
    "median2 = grouped_df.loc[grouped_df[\"County\"] == \"Washington County\"][\"MedianFamilyIncome\"].median()\n",
    "median2"
   ]
  },
  {
   "cell_type": "code",
   "execution_count": null,
   "id": "efd5194a",
   "metadata": {},
   "outputs": [],
   "source": [
    "grouped_df.loc[(grouped_df[\"MedianFamilyIncome\"].isnull()) & (grouped_df[\"County\"] == \"Washington County\"), \"MedianFamilyIncome\"] = median2"
   ]
  },
  {
   "cell_type": "code",
   "execution_count": null,
   "id": "c0f8f2bd",
   "metadata": {},
   "outputs": [],
   "source": [
    "median3 = grouped_df.loc[grouped_df[\"County\"] == \"Ramsey County\"][\"MedianFamilyIncome\"].median()\n",
    "median3"
   ]
  },
  {
   "cell_type": "code",
   "execution_count": null,
   "id": "8c3a6867",
   "metadata": {},
   "outputs": [],
   "source": [
    "grouped_df.loc[(grouped_df[\"MedianFamilyIncome\"].isnull()) & (grouped_df[\"County\"] == \"Ramsey County\"), \"MedianFamilyIncome\"] = median3"
   ]
  },
  {
   "cell_type": "code",
   "execution_count": null,
   "id": "d2629460",
   "metadata": {},
   "outputs": [],
   "source": [
    "grouped_df.info()"
   ]
  },
  {
   "cell_type": "code",
   "execution_count": null,
   "id": "6e25cec9",
   "metadata": {},
   "outputs": [],
   "source": [
    "print(grouped_df.dtypes)"
   ]
  },
  {
   "cell_type": "code",
   "execution_count": null,
   "id": "b5304364",
   "metadata": {},
   "outputs": [],
   "source": [
    "grouped_df.nunique()"
   ]
  },
  {
   "cell_type": "code",
   "execution_count": null,
   "id": "db670665",
   "metadata": {},
   "outputs": [],
   "source": [
    "# Convert population counts to percentages for demographic observations\n",
    "grouped_df[\"PctLOWI\"] = grouped_df[\"TractLOWI\"] / grouped_df[\"Pop2010\"]\n",
    "grouped_df[\"PctKids\"] = grouped_df[\"TractKids\"] / grouped_df[\"Pop2010\"]\n",
    "grouped_df[\"PctSeniors\"] = grouped_df[\"TractSeniors\"] / grouped_df[\"Pop2010\"]\n",
    "grouped_df[\"PctWhite\"] = grouped_df[\"TractWhite\"] / grouped_df[\"Pop2010\"]\n",
    "grouped_df[\"PctBlack\"] = grouped_df[\"TractBlack\"] / grouped_df[\"Pop2010\"]\n",
    "grouped_df[\"PctAsian\"] = grouped_df[\"TractAsian\"] / grouped_df[\"Pop2010\"]\n",
    "grouped_df[\"PctNHOPI\"] = grouped_df[\"TractNHOPI\"] / grouped_df[\"Pop2010\"]\n",
    "grouped_df[\"PctAIAN\"] = grouped_df[\"TractAIAN\"] / grouped_df[\"Pop2010\"]\n",
    "grouped_df[\"PctOMultir\"] = grouped_df[\"TractOMultir\"] / grouped_df[\"Pop2010\"]\n",
    "grouped_df[\"PctHispanic\"] = grouped_df[\"TractHispanic\"] / grouped_df[\"Pop2010\"]\n",
    "grouped_df[\"PctHUNV\"] = grouped_df[\"TractHUNV\"] / grouped_df[\"Pop2010\"]\n",
    "grouped_df[\"PctSNAP\"] = grouped_df[\"TractSNAP\"] / grouped_df[\"Pop2010\"]\n",
    "\n"
   ]
  },
  {
   "cell_type": "code",
   "execution_count": null,
   "id": "4461717d",
   "metadata": {},
   "outputs": [],
   "source": [
    "# drop columns with population counts\n",
    "grouped_df.drop(columns=['TractLOWI','TractKids','TractSeniors','TractWhite','TractBlack','TractAsian','TractNHOPI',\n",
    "                         'TractAIAN','TractOMultir','TractHispanic','TractHUNV','TractSNAP'], inplace=True)"
   ]
  },
  {
   "cell_type": "code",
   "execution_count": null,
   "id": "e312921e",
   "metadata": {},
   "outputs": [],
   "source": [
    "list(grouped_df.columns)"
   ]
  },
  {
   "cell_type": "code",
   "execution_count": null,
   "id": "a1040eba",
   "metadata": {},
   "outputs": [],
   "source": [
    "# Convert categorical data to numeric with `pd.get_dummies`  ***\n",
    "\n",
    "grouped_df.drop(columns=[\"County\"], inplace=True)\n",
    "dummies_df = pd.get_dummies(grouped_df)\n",
    "dummies_df"
   ]
  },
  {
   "cell_type": "code",
   "execution_count": null,
   "id": "805a7f16",
   "metadata": {},
   "outputs": [],
   "source": [
    "# Split our preprocessed data into our features and target arrays \n",
    "y = dummies_df.LAhalfand10.values\n",
    "X = dummies_df.drop(columns=\"LAhalfand10\").values\n",
    "\n",
    "# Split the preprocessed data into a training and testing dataset\n",
    "X_train, X_test, y_train, y_test = train_test_split(X, y)"
   ]
  },
  {
   "cell_type": "code",
   "execution_count": null,
   "id": "b4b16fa9",
   "metadata": {},
   "outputs": [],
   "source": [
    "# Create a StandardScaler instances ****\n",
    "scaler = StandardScaler()\n",
    "\n",
    "# Fit the StandardScaler\n",
    "X_scaler = scaler.fit(X_train)\n",
    "\n",
    "# Scale the data\n",
    "X_train_scaled = X_scaler.transform(X_train)\n",
    "X_test_scaled = X_scaler.transform(X_test)"
   ]
  },
  {
   "cell_type": "markdown",
   "id": "d2a45c44",
   "metadata": {},
   "source": [
    "#### When the model below was first created and trained, \"Accuracy\" results were coming back at around 30%. Something had to be incorrect somewhere. First checked the dataset and discovered there were 8 places where \"MedianFamilyIncome\" was NaN spread across 3 different Minnesota counties. Used the .median() method above to fill in the NaN fields.\n",
    "\n",
    "#### Also, when looking at the .value_counts() from dummies, typically \"0\" count should be higher then \"1\" if nothing else, but even still, the data did not appear to be too balanced, so wasn't sure if that was going to be a challenge.\n",
    "\n",
    "#### Next, created \"First\" and \"Second\" hidden layers with hidden_nodes_layer1 at 800 and ...layer2 at 500 and epochs below at 100. After running evertyhing, \"Accuracy\" was around 75%-76%! When training, the model did seem to be overfitting, so bumped the epochs down to 10. Also tried adding a \"Third\" hidden layer with 50 nodes, and \"Accuracy\" was still coming out at 76%-77%. \n",
    "\n",
    "#### Removed the first hidden layer below and also removed the \"County\" column and then saw \"Accuracy\" jump up. Lastly, we converted the population from \"counts\" to \"percents\" and that brought the \"Accuracy\" up to .\n",
    "\n",
    "#### When reviewing with the group, we decided that the population counts would be better being shown as percentages instead of totals. Unsure of how this would affect the model, we did decide to forge ahead and we got our best results yet . . . 85.3%!"
   ]
  },
  {
   "cell_type": "code",
   "execution_count": null,
   "id": "e2396b00",
   "metadata": {},
   "outputs": [],
   "source": [
    "# Define the model - deep neural net, i.e., the number of input features and hidden nodes for each layer.\n",
    "number_input_features = len(X_train[0])\n",
    "# hidden_nodes_layer1 =  300\n",
    "hidden_nodes_layer2 = 100\n",
    "hidden_nodes_layer3 = 50\n",
    "\n",
    "nn = tf.keras.models.Sequential()\n",
    "\n",
    "# First hidden layer\n",
    "#nn.add(tf.keras.layers.Dense(units=hidden_nodes_layer1, input_dim=number_input_features, activation=\"relu\"))\n",
    "\n",
    "# Second hidden layer\n",
    "nn.add(tf.keras.layers.Dense(units=hidden_nodes_layer2, activation=\"relu\", input_dim=number_input_features))\n",
    "\n",
    "# Third hidden layer\n",
    "nn.add(tf.keras.layers.Dense(units=hidden_nodes_layer2, activation=\"relu\"))\n",
    "\n",
    "# Output layer\n",
    "nn.add(tf.keras.layers.Dense(units=1, activation=\"sigmoid\"))\n",
    "\n",
    "# Check the structure of the model\n",
    "nn.summary()"
   ]
  },
  {
   "cell_type": "code",
   "execution_count": null,
   "id": "853260e0",
   "metadata": {},
   "outputs": [],
   "source": [
    "# Compile the model\n",
    "nn.compile(loss=\"binary_crossentropy\", optimizer=\"adam\", metrics=[\"accuracy\"])"
   ]
  },
  {
   "cell_type": "code",
   "execution_count": null,
   "id": "ceef7ee1",
   "metadata": {},
   "outputs": [],
   "source": [
    "dummies_df[\"LAhalfand10\"].value_counts() #dataset is imbalanced, usually 0 should be higher than 1"
   ]
  },
  {
   "cell_type": "code",
   "execution_count": null,
   "id": "935d7d8d",
   "metadata": {},
   "outputs": [],
   "source": [
    "# Train the model\n",
    "fit_model = nn.fit(X_train_scaled,y_train,epochs=10)"
   ]
  },
  {
   "cell_type": "code",
   "execution_count": null,
   "id": "762318d2",
   "metadata": {},
   "outputs": [],
   "source": [
    "type(fit_model)"
   ]
  },
  {
   "cell_type": "code",
   "execution_count": null,
   "id": "712a40c2",
   "metadata": {},
   "outputs": [],
   "source": [
    "fit_model.history  #plot loss function"
   ]
  },
  {
   "cell_type": "code",
   "execution_count": null,
   "id": "b7edd647",
   "metadata": {},
   "outputs": [],
   "source": [
    "# Evaluate the model using the test data\n",
    "model_loss, model_accuracy = nn.evaluate(X_test_scaled,y_test,verbose=2)\n",
    "print(f\"Loss: {model_loss}, Accuracy: {model_accuracy}\")"
   ]
  },
  {
   "cell_type": "code",
   "execution_count": null,
   "id": "bb137e02",
   "metadata": {},
   "outputs": [],
   "source": [
    "grouped_df.columns.tolist()"
   ]
  },
  {
   "cell_type": "code",
   "execution_count": null,
   "id": "58e79f6f",
   "metadata": {},
   "outputs": [],
   "source": [
    "loss_values = fit_model.history['loss']\n",
    "\n",
    "epochs_range = range(1, len(loss_values) + 1)\n",
    "\n",
    "plt.plot(epochs_range, loss_values, marker='o', linestyle='-')\n",
    "plt.xlabel('Epochs')\n",
    "plt.ylabel('Loss')\n",
    "plt.title('Training Loss over Epochs')\n",
    "plt.grid(True)\n",
    "plt.show()"
   ]
  },
  {
   "cell_type": "code",
   "execution_count": null,
   "id": "eaac9f67",
   "metadata": {},
   "outputs": [],
   "source": []
  }
 ],
 "metadata": {
  "kernelspec": {
   "display_name": "Python 3 (ipykernel)",
   "language": "python",
   "name": "python3"
  },
  "language_info": {
   "codemirror_mode": {
    "name": "ipython",
    "version": 3
   },
   "file_extension": ".py",
   "mimetype": "text/x-python",
   "name": "python",
   "nbconvert_exporter": "python",
   "pygments_lexer": "ipython3",
   "version": "3.10.9"
  }
 },
 "nbformat": 4,
 "nbformat_minor": 5
}
